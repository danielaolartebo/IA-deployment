{
 "cells": [
  {
   "cell_type": "markdown",
   "id": "diagnostic-failing",
   "metadata": {},
   "source": [
    "Integrantes\n",
    "\n",
    "+ Nombre:, código:\n",
    "+ Nombre:, código:"
   ]
  },
  {
   "cell_type": "markdown",
   "id": "sorted-studio",
   "metadata": {},
   "source": [
    "# Revisar material\n",
    "\n",
    "Se presenta el material donde se explica el uso de Dash, Flask y Plotly para el desarrollo de aplicaciones web con Python"
   ]
  },
  {
   "cell_type": "code",
   "execution_count": 2,
   "id": "serious-rendering",
   "metadata": {
    "scrolled": true
   },
   "outputs": [
    {
     "name": "stderr",
     "output_type": "stream",
     "text": [
      "C:\\Users\\Usuario\\Anaconda3\\envs\\lab\\lib\\site-packages\\IPython\\core\\display.py:717: UserWarning: Consider using IPython.display.IFrame instead\n",
      "  warnings.warn(\"Consider using IPython.display.IFrame instead\")\n"
     ]
    },
    {
     "data": {
      "text/html": [
       "<iframe width=\"1536\" height=\"864\" src=\"https://www.youtube.com/embed/1A5zFVYPvVQ\" title=\"YouTube video player\" frameborder=\"0\" allow=\"accelerometer; autoplay; clipboard-write; encrypted-media; gyroscope; picture-in-picture\" allowfullscreen></iframe>"
      ],
      "text/plain": [
       "<IPython.core.display.HTML object>"
      ]
     },
     "execution_count": 2,
     "metadata": {},
     "output_type": "execute_result"
    }
   ],
   "source": [
    "from IPython.display import HTML\n",
    "\n",
    "HTML('<iframe width=\"1536\" height=\"864\" src=\"https://www.youtube.com/embed/1A5zFVYPvVQ\" title=\"YouTube video player\" frameborder=\"0\" allow=\"accelerometer; autoplay; clipboard-write; encrypted-media; gyroscope; picture-in-picture\" allowfullscreen></iframe>')\n"
   ]
  },
  {
   "cell_type": "markdown",
   "id": "charming-adoption",
   "metadata": {},
   "source": [
    "# Actividades\n"
   ]
  },
  {
   "cell_type": "markdown",
   "id": "absent-speaker",
   "metadata": {},
   "source": [
    "## Exploración"
   ]
  },
  {
   "cell_type": "markdown",
   "id": "peaceful-inventory",
   "metadata": {},
   "source": [
    "1. Instale la libreria [Dash](#https://anaconda.org/conda-forge/dash)\n",
    "2. Ejecute el archivo app.py desde consola con Python, revise el código y adaptelo para que despliegue el siguiente resultado. \n",
    "    + Nota: revise la documentación de Dash y las etiquetas HTML\n",
    "    + Nota: hay tres nuevos elementos HTML\n",
    "    \n",
    "<img src=\"ret1.png\"/>"
   ]
  },
  {
   "cell_type": "markdown",
   "id": "manufactured-barcelona",
   "metadata": {},
   "source": [
    "3. Ejecute el archivo app4.py, identifique cada uno de los componentes y responda la siguiente pregunta\n",
    "+ ¿Cuantos elementos visuales (variables) del dataset ha cargado la figura 2?"
   ]
  },
  {
   "cell_type": "markdown",
   "id": "outdoor-separate",
   "metadata": {},
   "source": [
    "## Spaceship"
   ]
  },
  {
   "cell_type": "markdown",
   "id": "ecological-carroll",
   "metadata": {},
   "source": [
    "4. Proponga un modelo para el reto en Kaggle [Spaceship Titanic](https://www.kaggle.com/competitions/spaceship-titanic), tenga presente que el contexto y los datos son distintos\n",
    "\n",
    "*Desarrolle una aplicación web con Flask, Dash y plotly teniendo como base los siguientes requerimientos:*\n",
    "\n",
    "5. El sistema debe contar con los elementos de visualización web que se presentan en las siguientes capturas de pantalla\n",
    "6. El sistema debe presentar la tabla de datos\n",
    "7. El sistema debe presentar la visualización de barras\n",
    "8. El sistema debe presentar el resultado del modelo a partir de las entradas del usuario"
   ]
  },
  {
   "cell_type": "markdown",
   "id": "experienced-layer",
   "metadata": {},
   "source": [
    "<img src=\"space1.png\"/>"
   ]
  },
  {
   "cell_type": "markdown",
   "id": "included-snapshot",
   "metadata": {},
   "source": [
    "<img src=\"space2.png\"/>"
   ]
  },
  {
   "cell_type": "markdown",
   "id": "operational-solution",
   "metadata": {},
   "source": [
    "<img src=\"space3.png\"/>"
   ]
  },
  {
   "cell_type": "markdown",
   "id": "minimal-opportunity",
   "metadata": {},
   "source": [
    "# Entregables\n",
    "\n",
    "+ Un entregable es el presente notebook\n",
    "    + Con los nombres de los integrantes.\n",
    "    + Con el proceso del desarrollo del modelo para el reto de datos\n",
    "    + Con la respuesta a las preguntas\n",
    "+ Un archivo python (.py) para la aplicación web del ejercicio 2\n",
    "+ Un archivo python (.py) para la aplicación web de Spaceship Titanic"
   ]
  },
  {
   "cell_type": "markdown",
   "id": "linear-liabilities",
   "metadata": {},
   "source": [
    "# Referencias"
   ]
  },
  {
   "cell_type": "markdown",
   "id": "satellite-nicaragua",
   "metadata": {},
   "source": [
    "+ https://github.com/plotly/dash\n",
    "+ https://scikit-learn.org/stable/modules/model_persistence.html"
   ]
  }
 ],
 "metadata": {
  "kernelspec": {
   "display_name": "Python 3",
   "language": "python",
   "name": "python3"
  },
  "language_info": {
   "codemirror_mode": {
    "name": "ipython",
    "version": 3
   },
   "file_extension": ".py",
   "mimetype": "text/x-python",
   "name": "python",
   "nbconvert_exporter": "python",
   "pygments_lexer": "ipython3",
   "version": "3.7.4"
  }
 },
 "nbformat": 4,
 "nbformat_minor": 5
}
