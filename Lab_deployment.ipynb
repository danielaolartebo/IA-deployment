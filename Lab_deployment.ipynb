{
 "cells": [
  {
   "cell_type": "markdown",
   "id": "diagnostic-failing",
   "metadata": {},
   "source": [
    "Integrantes\n",
    "\n",
    "+ Nombre: Carlos Jimmy Pantoja, Código: A00366287\n",
    "+ Nombre: Daniela Olarte Borja, Código: A00368359"
   ]
  },
  {
   "cell_type": "markdown",
   "id": "sorted-studio",
   "metadata": {},
   "source": [
    "# Revisar material\n",
    "\n",
    "Se presenta el material donde se explica el uso de Dash, Flask y Plotly para el desarrollo de aplicaciones web con Python"
   ]
  },
  {
   "cell_type": "code",
   "execution_count": 1,
   "id": "serious-rendering",
   "metadata": {
    "scrolled": true
   },
   "outputs": [
    {
     "name": "stderr",
     "output_type": "stream",
     "text": [
      "C:\\Users\\1002820324\\AppData\\Local\\Packages\\PythonSoftwareFoundation.Python.3.10_qbz5n2kfra8p0\\LocalCache\\local-packages\\Python310\\site-packages\\IPython\\core\\display.py:419: UserWarning: Consider using IPython.display.IFrame instead\n",
      "  warnings.warn(\"Consider using IPython.display.IFrame instead\")\n"
     ]
    },
    {
     "data": {
      "text/html": [
       "<iframe width=\"1536\" height=\"864\" src=\"https://www.youtube.com/embed/1A5zFVYPvVQ\" title=\"YouTube video player\" frameborder=\"0\" allow=\"accelerometer; autoplay; clipboard-write; encrypted-media; gyroscope; picture-in-picture\" allowfullscreen></iframe>"
      ],
      "text/plain": [
       "<IPython.core.display.HTML object>"
      ]
     },
     "execution_count": 1,
     "metadata": {},
     "output_type": "execute_result"
    }
   ],
   "source": [
    "from IPython.display import HTML\n",
    "\n",
    "HTML('<iframe width=\"1536\" height=\"864\" src=\"https://www.youtube.com/embed/1A5zFVYPvVQ\" title=\"YouTube video player\" frameborder=\"0\" allow=\"accelerometer; autoplay; clipboard-write; encrypted-media; gyroscope; picture-in-picture\" allowfullscreen></iframe>')\n"
   ]
  },
  {
   "cell_type": "markdown",
   "id": "charming-adoption",
   "metadata": {},
   "source": [
    "# Actividades\n"
   ]
  },
  {
   "cell_type": "markdown",
   "id": "absent-speaker",
   "metadata": {},
   "source": [
    "## Exploración"
   ]
  },
  {
   "cell_type": "markdown",
   "id": "peaceful-inventory",
   "metadata": {},
   "source": [
    "1. Instale la libreria [Dash](#https://anaconda.org/conda-forge/dash)\n",
    "2. Ejecute el archivo app.py desde consola con Python, revise el código y adaptelo para que despliegue el siguiente resultado. \n",
    "    + Nota: revise la documentación de Dash y las etiquetas HTML\n",
    "    + Nota: hay tres nuevos elementos HTML\n",
    "    \n",
    "<img src=\"ret1.png\"/>"
   ]
  },
  {
   "cell_type": "markdown",
   "id": "manufactured-barcelona",
   "metadata": {},
   "source": [
    "3. Ejecute el archivo app4.py, identifique cada uno de los componentes y responda la siguiente pregunta\n",
    "+ ¿Cuantos elementos visuales (variables) del dataset ha cargado la figura 2?"
   ]
  },
  {
   "cell_type": "markdown",
   "id": "2121916a",
   "metadata": {},
   "source": [
    "Se usaron 6 variables del dataset:\n",
    "* gdpPercap\n",
    "* lifeExp\n",
    "* year\n",
    "* country\n",
    "* pop\n",
    "* continent"
   ]
  },
  {
   "cell_type": "markdown",
   "id": "outdoor-separate",
   "metadata": {},
   "source": [
    "## Spaceship"
   ]
  },
  {
   "cell_type": "markdown",
   "id": "ecological-carroll",
   "metadata": {},
   "source": [
    "4. Proponga un modelo para el reto en Kaggle [Spaceship Titanic](https://www.kaggle.com/competitions/spaceship-titanic), tenga presente que el contexto y los datos son distintos\n",
    "\n",
    "*Desarrolle una aplicación web con Flask, Dash y plotly teniendo como base los siguientes requerimientos:*\n",
    "\n",
    "5. El sistema debe contar con los elementos de visualización web que se presentan en las siguientes capturas de pantalla\n",
    "6. El sistema debe presentar la tabla de datos\n",
    "7. El sistema debe presentar la visualización de barras\n",
    "8. El sistema debe presentar el resultado del modelo a partir de las entradas del usuario"
   ]
  },
  {
   "cell_type": "markdown",
   "id": "experienced-layer",
   "metadata": {},
   "source": [
    "<img src=\"space1.png\"/>"
   ]
  },
  {
   "cell_type": "markdown",
   "id": "included-snapshot",
   "metadata": {},
   "source": [
    "<img src=\"space2.png\"/>"
   ]
  },
  {
   "cell_type": "markdown",
   "id": "operational-solution",
   "metadata": {},
   "source": [
    "<img src=\"space3.png\"/>"
   ]
  },
  {
   "cell_type": "code",
   "execution_count": 2,
   "id": "913da5b4",
   "metadata": {},
   "outputs": [],
   "source": [
    "import pandas as pd\n",
    "from copy import deepcopy\n",
    "from sklearn.linear_model import LogisticRegression"
   ]
  },
  {
   "cell_type": "code",
   "execution_count": 3,
   "id": "532f6092",
   "metadata": {},
   "outputs": [],
   "source": [
    "train = pd.read_csv('train.csv')"
   ]
  },
  {
   "cell_type": "code",
   "execution_count": 4,
   "id": "f3eff2d1",
   "metadata": {},
   "outputs": [],
   "source": [
    "columns = ['HomePlanet', 'CryoSleep', 'Destination', 'Age', 'VIP', 'RoomService', 'FoodCourt', 'ShoppingMall', 'Spa', 'VRDeck', 'Transported']"
   ]
  },
  {
   "cell_type": "code",
   "execution_count": 5,
   "id": "fb66278d",
   "metadata": {},
   "outputs": [],
   "source": [
    "train = deepcopy(train[columns])"
   ]
  },
  {
   "cell_type": "code",
   "execution_count": 6,
   "id": "1e2a1d59",
   "metadata": {},
   "outputs": [],
   "source": [
    "def fillna(df):\n",
    "    [df[col].fillna('N/A', inplace=True) for col in df.columns if df[col].dtype == 'object']\n",
    "    [df[col].fillna(df[col].mean(), inplace=True) for col in df.columns if df[col].dtype == 'float64']"
   ]
  },
  {
   "cell_type": "code",
   "execution_count": 7,
   "id": "dcb97d55",
   "metadata": {},
   "outputs": [],
   "source": [
    "fillna(train)"
   ]
  },
  {
   "cell_type": "code",
   "execution_count": 8,
   "id": "c4828113",
   "metadata": {},
   "outputs": [],
   "source": [
    "def catcodes(df):\n",
    "    [df.replace(df[col].astype('category').unique().to_list(), df[col].astype('category').cat.codes.unique(), inplace=True) for col in df.columns if df[col].dtype == 'object']"
   ]
  },
  {
   "cell_type": "code",
   "execution_count": 9,
   "id": "e30610ff",
   "metadata": {},
   "outputs": [],
   "source": [
    "catcodes(train)"
   ]
  },
  {
   "cell_type": "code",
   "execution_count": 10,
   "id": "fd7adf97",
   "metadata": {},
   "outputs": [],
   "source": [
    "train_y = deepcopy(train[columns[-1]])\n",
    "\n",
    "train_x = deepcopy(train[columns[:-1]])"
   ]
  },
  {
   "cell_type": "code",
   "execution_count": 11,
   "id": "54f03239",
   "metadata": {},
   "outputs": [],
   "source": [
    "model = LogisticRegression(random_state=42, C=10, max_iter=320, solver='newton-cg').fit(train_x, train_y)"
   ]
  },
  {
   "cell_type": "code",
   "execution_count": 12,
   "id": "36e7e30d",
   "metadata": {},
   "outputs": [
    {
     "data": {
      "text/plain": [
       "0.7897158633383182"
      ]
     },
     "execution_count": 12,
     "metadata": {},
     "output_type": "execute_result"
    }
   ],
   "source": [
    "model.score(train_x, train_y)"
   ]
  },
  {
   "cell_type": "code",
   "execution_count": 13,
   "id": "02920c87",
   "metadata": {},
   "outputs": [],
   "source": [
    "test = pd.read_csv('test.csv')"
   ]
  },
  {
   "cell_type": "code",
   "execution_count": 14,
   "id": "93db0ff5",
   "metadata": {},
   "outputs": [],
   "source": [
    "test_id = deepcopy(test['PassengerId'])"
   ]
  },
  {
   "cell_type": "code",
   "execution_count": 15,
   "id": "9cdfb8e8",
   "metadata": {},
   "outputs": [],
   "source": [
    "test_x = deepcopy(test[columns[:-1]])"
   ]
  },
  {
   "cell_type": "code",
   "execution_count": 16,
   "id": "92e7ca3b",
   "metadata": {},
   "outputs": [],
   "source": [
    "fillna(test_x)"
   ]
  },
  {
   "cell_type": "code",
   "execution_count": 17,
   "id": "c3820121",
   "metadata": {},
   "outputs": [],
   "source": [
    "catcodes(test_x)"
   ]
  },
  {
   "cell_type": "code",
   "execution_count": 18,
   "id": "aa32e64e",
   "metadata": {},
   "outputs": [],
   "source": [
    "test_y = model.predict(test_x)"
   ]
  },
  {
   "cell_type": "code",
   "execution_count": 19,
   "id": "b4c043b9",
   "metadata": {},
   "outputs": [],
   "source": [
    "submit = pd.DataFrame({'PassengerId' : test_id.values, 'Transported' : test_y})"
   ]
  },
  {
   "cell_type": "code",
   "execution_count": 20,
   "id": "5b1a4011",
   "metadata": {},
   "outputs": [],
   "source": [
    "submit['Transported'].replace([0, 1], [False, True], inplace=True)"
   ]
  },
  {
   "cell_type": "code",
   "execution_count": 21,
   "id": "a8d56a14",
   "metadata": {},
   "outputs": [],
   "source": [
    "submit.to_csv('submit.csv', index=False)"
   ]
  },
  {
   "cell_type": "markdown",
   "id": "minimal-opportunity",
   "metadata": {},
   "source": [
    "# Entregables\n",
    "\n",
    "+ Un entregable es el presente notebook\n",
    "    + Con los nombres de los integrantes.\n",
    "    + Con el proceso del desarrollo del modelo para el reto de datos\n",
    "    + Con la respuesta a las preguntas\n",
    "+ Un archivo python (.py) para la aplicación web del ejercicio 2\n",
    "+ Un archivo python (.py) para la aplicación web de Spaceship Titanic"
   ]
  },
  {
   "cell_type": "markdown",
   "id": "linear-liabilities",
   "metadata": {},
   "source": [
    "# Referencias"
   ]
  },
  {
   "cell_type": "markdown",
   "id": "satellite-nicaragua",
   "metadata": {},
   "source": [
    "+ https://github.com/plotly/dash\n",
    "+ https://scikit-learn.org/stable/modules/model_persistence.html"
   ]
  }
 ],
 "metadata": {
  "kernelspec": {
   "display_name": "Python 3.10.8 64-bit (microsoft store)",
   "language": "python",
   "name": "python3"
  },
  "language_info": {
   "codemirror_mode": {
    "name": "ipython",
    "version": 3
   },
   "file_extension": ".py",
   "mimetype": "text/x-python",
   "name": "python",
   "nbconvert_exporter": "python",
   "pygments_lexer": "ipython3",
   "version": "3.10.8"
  },
  "vscode": {
   "interpreter": {
    "hash": "da059c13d1cb8ece5dd5dc40ad0d12ae7a0689792b14e8e6699c3e84ab85084d"
   }
  }
 },
 "nbformat": 4,
 "nbformat_minor": 5
}
